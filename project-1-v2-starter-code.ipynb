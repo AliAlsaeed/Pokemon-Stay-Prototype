{
 "cells": [
  {
   "cell_type": "markdown",
   "metadata": {},
   "source": [
    "<img src=\"http://imgur.com/1ZcRyrc.png\" style=\"float: left; margin: 15px; height: 80px\">\n",
    "\n",
    "# Project 1\n",
    "\n",
    "### Building \"Pokemon Stay\"\n",
    "\n",
    "---\n",
    "You are an analyst at a \"scrappy\" online gaming company that specializes in remakes of last year's fads.\n",
    "\n",
    "Your boss, who runs the product development team, is convinced that Pokemon Go's fatal flaw was that you had to actually move around outside. She has design mock-ups for a new game called Pokemon Stay: in this version players still need to move, but just from website to website. Pokemon gyms are now popular online destinations, and catching Pokemon in the \"wild\" simply requires browsing the internet for hours in the comfort of your home.\n",
    "\n",
    "She wants you to program a prototype version of the game, and analyze the planned content to help the team calibrate the design."
   ]
  },
  {
   "cell_type": "markdown",
   "metadata": {},
   "source": [
    "#### Package imports\n",
    "\n",
    "The pprint package below is the only package imported here, and it's not even strictly required to do any of the project. Printing python variables and objects with pprint can help to format them in a \"prettier\" way."
   ]
  },
  {
   "cell_type": "markdown",
   "metadata": {},
   "source": [
    "## Basic Importing of packages"
   ]
  },
  {
   "cell_type": "code",
   "execution_count": 1,
   "metadata": {
    "collapsed": true
   },
   "outputs": [],
   "source": [
    "from pprint import pprint\n",
    "import random"
   ]
  },
  {
   "cell_type": "markdown",
   "metadata": {},
   "source": [
    "## Set the seed so that runs are reproducible"
   ]
  },
  {
   "cell_type": "code",
   "execution_count": 2,
   "metadata": {
    "collapsed": true
   },
   "outputs": [],
   "source": [
    "random.seed = 123"
   ]
  },
  {
   "cell_type": "markdown",
   "metadata": {},
   "source": [
    "### We also initiate the list of player, gym locations and the Pokemon List"
   ]
  },
  {
   "cell_type": "markdown",
   "metadata": {},
   "source": [
    "#### The Pokedex variable is used in the Player class and the player class assumes that all the pokemons are given within this variable. When a new pokemon list is loaded into the code, we set Pokedex = New data. So we need not edit the code of the class, via just pointing Pokedex to the new updated list e.g a pokedex, a file etc."
   ]
  },
  {
   "cell_type": "code",
   "execution_count": 3,
   "metadata": {},
   "outputs": [],
   "source": [
    "PlayerList = {} #Player List as  Dictionary\n",
    "Pokedex={} #Pokemon List which we will load the list of pokemons inside. Is a Dictionary within a dictionary\n",
    "Gym_locations = []"
   ]
  },
  {
   "cell_type": "markdown",
   "metadata": {},
   "source": [
    "<img src=\"http://imgur.com/l5NasQj.png\" style=\"float: left; margin: 25px 15px 0px 0px; height: 25px\">\n",
    "\n",
    "## 1. Defining a player\n",
    "\n",
    "---\n",
    "\n",
    "The player variables are:\n",
    "\n",
    "    player_id : id code unique to each player (integer)\n",
    "    player_name : entered name of the player (string)\n",
    "    time_played : number of time played the game in minutes (float)\n",
    "    player_pokemon: the player's captured pokemon (dictionary)\n",
    "    gyms_visited: ids of the gyms that a player has visited (list)\n",
    "    \n",
    "Create the components for a player object by defining each of these variables. The dictionary and list variables should just be defined as empty; you can use any (correctly typed) values for the others."
   ]
  },
  {
   "cell_type": "markdown",
   "metadata": {},
   "source": [
    "### We create a Player Class which defines an object into a player, containing the required variables and methods.\n",
    "    As soon as a player is initialized, they are automatically added into the PlayerList, neat!\n",
    "    Adding or removing pokemon is also through an easy function.\n",
    "    Visiting gyms are also simplified to add gyms either via index or via string depending on input.\n",
    "    When a player's details are updated, it will subsequently update their details in the overall PlayerList, neat!"
   ]
  },
  {
   "cell_type": "code",
   "execution_count": 4,
   "metadata": {},
   "outputs": [],
   "source": [
    "class player(object): \n",
    "   \n",
    "    #The required variables are created and set here to the default values. With proper data types.\n",
    "    def __init__(self,player_name ,player_id):\n",
    "        \"\"\"The player_id can be automed within the class itself but instead I've segregated it into another function\n",
    "        in case one wants a specific player_id in the future, e.g an admin wants player id = 1\"\"\" \n",
    "    \n",
    "        self.player_name = str(player_name) \n",
    "        self.player_id= int(player_id) \n",
    "        self.time_played = 0.0\n",
    "        self.player_pokemon = {}  \n",
    "        self.gyms_visited = []\n",
    "            \n",
    "        #Adds this player into the player List\n",
    "        global PlayerList \n",
    "        PlayerList [self.player_id] = self.player_name\n",
    "    \n",
    "    # Now we set some methods that player objects can perform.\n",
    "    \n",
    "    def info(self):\n",
    "        \"\"\"Returns Information about the player as a dictionary\"\"\"\n",
    "        ''' Also updates the player info into the PlayerList Dictionary( for the purpose of this project)'''\n",
    "        \n",
    "        #Create List of Information\n",
    "        PokemonTrainer = {'player_id':self.player_id, 'player_name':self.player_name, 'time_played':self.time_played,'player_pokemon': self.player_pokemon,'gyms_visited': self.gyms_visited}\n",
    "        #update the PlayerList\n",
    "        PlayerList.update({self.player_id:PokemonTrainer})\n",
    "        return PokemonTrainer\n",
    "    \n",
    "    #This functions adds a pokemon into the list of pokemons the player have.\n",
    "    def Pokemon(self,pokemon, pokedex = Pokedex, add=True):\n",
    "        \n",
    "        '''Pokemon is added via it's index number'''\n",
    "        ''' By default, this will add a pokemon, add can be set to false to remove pokemon'''\n",
    "        ''' The pokedex input is used to specify where the pokedex is.'''\n",
    "             \n",
    "        #Adds pokemon through the index \n",
    "        \n",
    "        #Check whether add = true\n",
    "        if add == True:\n",
    "            try:\n",
    "                self.player_pokemon.update({pokemon:pokedex[pokemon]})\n",
    "                message = \"added to\"\n",
    "            except:\n",
    "                return 'Pokemon not recognized'    \n",
    "        elif add ==False:\n",
    "            try:\n",
    "                self.player_pokemon.pop(pokemon)\n",
    "                message = \"removed from\"\n",
    "            except:\n",
    "                return 'Pokemon not recognized'  \n",
    "        else:\n",
    "            print \"'add' variable is not a boolean\" \n",
    "            #this will prevent it from giving the output message when\n",
    "            return []\n",
    "\n",
    "        #Output messages\n",
    "        #updates the PlayerList\n",
    "        self.info()\n",
    "        try:\n",
    "            print pokedex[pokemon]['Name'], \"has been\",message, self.player_name + \"'s\", \"list of pokemons\" \n",
    "        except:\n",
    "            print pokedex[pokemon]['name'], \"has been\",message, self.player_name + \"'s\", \"list of pokemons\" \n",
    "        \n",
    "                         \n",
    "\n",
    "    def VisitGym(self, gym, gym_locations=Gym_locations):\n",
    "        \"\"\"Player visits gym, the gym is added to the list of gyms visited\"\"\"\n",
    "        ''' A gym can be added into the list more than once if it was visited numerous times'''\n",
    "        \n",
    "        #output message\n",
    "        GymName = gym\n",
    "        \n",
    "        \n",
    "        if type (gym) == str:\n",
    "            self.gyms_visited.append(gym)\n",
    "        else:\n",
    "            try:\n",
    "                self.gyms_visited.append(gym_locations[gym])\n",
    "                GymName = gym_locations[gym]\n",
    "            except:\n",
    "                print str(gym) + \" index is not in the Gym_locations list\"\n",
    "                return []\n",
    "        #updates the PlayerList\n",
    "        self.info()\n",
    "        print str(self.player_name) + \" visits the \" + str(GymName) + \" gym\"\n",
    "    \n",
    "    def AddPlayTime(self, time):\n",
    "        \"\"\"Adds Play time into the player's stats\"\"\"\n",
    "        self.time_played += time\n",
    "        playtime_hours = self.time_played/3600.0\n",
    "        \n",
    "        #updates the PlayerList\n",
    "        self.info()\n",
    "        print self.player_name,\"has played for\",time,\"seconds\"\n",
    "        print \"Total play time is\",self.time_played,\"hours\"\n",
    "    \n",
    "    \n",
    "        \n",
    "        \n",
    "\n",
    "    \n"
   ]
  },
  {
   "cell_type": "markdown",
   "metadata": {},
   "source": [
    "### A function that can help create unique random IDs.\n",
    "Can help to streamline work if there were hundreds of players to be/been added. Checks whether a player ID has already been taken and finds unique one"
   ]
  },
  {
   "cell_type": "code",
   "execution_count": 5,
   "metadata": {},
   "outputs": [],
   "source": [
    "def RandomID():\n",
    "        #generate random number\n",
    "        generating = True\n",
    "        while generating == True:\n",
    "            \n",
    "            randomstring = random.randint(100000000,999999999)\n",
    "            \n",
    "        #checks whether randomstring already exists in player database\n",
    "            if not randomstring in PlayerList:\n",
    "                #This will exit the while loop\n",
    "                generating = False\n",
    "        return randomstring\n"
   ]
  },
  {
   "cell_type": "markdown",
   "metadata": {},
   "source": [
    "### Creating a player"
   ]
  },
  {
   "cell_type": "code",
   "execution_count": 6,
   "metadata": {},
   "outputs": [],
   "source": [
    "Nasrudin = player(\"Nasrudin Salim\",RandomID())"
   ]
  },
  {
   "cell_type": "markdown",
   "metadata": {},
   "source": [
    "#### Checking the variables defined for player \"Nasrudin\""
   ]
  },
  {
   "cell_type": "code",
   "execution_count": 7,
   "metadata": {},
   "outputs": [
    {
     "name": "stdout",
     "output_type": "stream",
     "text": [
      "{'gyms_visited': [],\n",
      " 'player_id': 429554375,\n",
      " 'player_name': 'Nasrudin Salim',\n",
      " 'player_pokemon': {},\n",
      " 'time_played': 0.0}\n"
     ]
    }
   ],
   "source": [
    "pprint (Nasrudin.info())"
   ]
  },
  {
   "cell_type": "markdown",
   "metadata": {},
   "source": [
    "### Checking the PlayerList\n",
    "    gyms_visited should be a list\n",
    "    player_id is integer.\n",
    "    player_name is string.\n",
    "    player_pokemon is dictionary\n",
    "    time_played is float"
   ]
  },
  {
   "cell_type": "code",
   "execution_count": 8,
   "metadata": {},
   "outputs": [
    {
     "name": "stdout",
     "output_type": "stream",
     "text": [
      "{429554375: {'gyms_visited': [],\n",
      "             'player_id': 429554375,\n",
      "             'player_name': 'Nasrudin Salim',\n",
      "             'player_pokemon': {},\n",
      "             'time_played': 0.0}}\n"
     ]
    }
   ],
   "source": [
    "pprint (PlayerList)"
   ]
  },
  {
   "cell_type": "markdown",
   "metadata": {},
   "source": [
    "<img src=\"http://imgur.com/l5NasQj.png\" style=\"float: left; margin: 25px 15px 0px 0px; height: 25px\">\n",
    "\n",
    "## 2. Defining \"gym\" locations\n",
    "\n",
    "---\n",
    "\n",
    "As the sole programmer, Pokemon Stay will have to start small. To begin, there will be 10 different gym location websites on the internet. The gym locations are:\n",
    "\n",
    "    1. 'reddit.com'\n",
    "    2. 'amazon.com'\n",
    "    3. 'twitter.com'\n",
    "    4. 'linkedin.com'\n",
    "    5. 'ebay.com'\n",
    "    6. 'netflix.com'\n",
    "    7. 'sporcle.com'\n",
    "    8. 'stackoverflow.com'\n",
    "    9. 'github.com'\n",
    "    10. 'quora.com'\n",
    "\n",
    "1. Set up a list of all the gym locations. This will be a list of strings.\n",
    "2. Append two of these locations to your player's list of visited gyms.\n",
    "3. Print the list."
   ]
  },
  {
   "cell_type": "markdown",
   "metadata": {},
   "source": [
    "### Define the gym locations\n",
    "As per what is required above"
   ]
  },
  {
   "cell_type": "code",
   "execution_count": 9,
   "metadata": {
    "collapsed": true
   },
   "outputs": [],
   "source": [
    "Gym_locations = [\"reddit.com\", \"amazon.com\", \"twitter.com\", \"linkedin.com\", \"ebay.com\", \"netflix.com\", \"sporcle.com\", \"stackoverflow.com\",\"github.com\",\"quora.com\"]"
   ]
  },
  {
   "cell_type": "markdown",
   "metadata": {},
   "source": [
    "### Randomly appending 2 locations to player \"Nasrudin\"'s visited gyms\n",
    "    We use the Visit Gym method in the class previously added instead of a traditional append because we've used a class to make things shorter. We should also be able to get the print out of the visits as he visits each of them.\n",
    "    \n",
    "    We use len(gym_locations)-1 such that we will get a random number from 0 to the length of the entire Gym_locations list. This can make the code more \"dynamic\" if the Gym_locations need to be adjusted ( to add or remove and site), it will adapt accordingly. The -1 is used because there is no index 10 when len will bring  =10 , as it starts from base 0"
   ]
  },
  {
   "cell_type": "code",
   "execution_count": 10,
   "metadata": {},
   "outputs": [
    {
     "name": "stdout",
     "output_type": "stream",
     "text": [
      "Nasrudin Salim visits the reddit.com gym\n",
      "Nasrudin Salim visits the stackoverflow.com gym\n"
     ]
    }
   ],
   "source": [
    "GymsToVisit = 2\n",
    "\n",
    "for i in range(GymsToVisit):\n",
    "    Nasrudin.VisitGym(Gym_locations[random.randint(0,len(Gym_locations)-1)])"
   ]
  },
  {
   "cell_type": "markdown",
   "metadata": {},
   "source": [
    "#### Check to see if the info was updated, as well as the PlayerList"
   ]
  },
  {
   "cell_type": "code",
   "execution_count": 11,
   "metadata": {},
   "outputs": [
    {
     "name": "stdout",
     "output_type": "stream",
     "text": [
      "Nasrudin's Info\n",
      "{'gyms_visited': ['reddit.com', 'stackoverflow.com'],\n",
      " 'player_id': 429554375,\n",
      " 'player_name': 'Nasrudin Salim',\n",
      " 'player_pokemon': {},\n",
      " 'time_played': 0.0}\n",
      "...\n",
      "Player List\n",
      "{429554375: {'gyms_visited': ['reddit.com', 'stackoverflow.com'],\n",
      "             'player_id': 429554375,\n",
      "             'player_name': 'Nasrudin Salim',\n",
      "             'player_pokemon': {},\n",
      "             'time_played': 0.0}}\n"
     ]
    }
   ],
   "source": [
    "print \"Nasrudin's Info\"\n",
    "pprint (Nasrudin.info())\n",
    "print \"...\"\n",
    "print \"Player List\"\n",
    "pprint (PlayerList)"
   ]
  },
  {
   "cell_type": "markdown",
   "metadata": {},
   "source": [
    "<img src=\"http://imgur.com/l5NasQj.png\" style=\"float: left; margin: 25px 15px 0px 0px; height: 25px\">\n",
    "\n",
    "## 3. Create a pokedex\n",
    "\n",
    "---\n",
    "\n",
    "We also need to create some pokemon to catch. Each pokemon will be defined by these variables:\n",
    "\n",
    "    pokemon_id : unique identifier for each pokemon (integer)\n",
    "    name : the name of the pokemon (string)\n",
    "    type : the category of pokemon (string)\n",
    "    hp : base hitpoints (integer)\n",
    "    attack : base attack (integer)\n",
    "    defense : base defense (integer)\n",
    "    special_attack : base special attack (integer)\n",
    "    special_defense : base sepecial defense (integer)\n",
    "    speed : base speed (integer)\n",
    "\n",
    "We are only going to create 3 different pokemon with these `pokemon_id` and `pokemon_name` values:\n",
    "\n",
    "    1 : 'charmander'\n",
    "    2 : 'squirtle'\n",
    "    3 : 'bulbasaur'\n",
    "\n",
    "Create a dictionary that will contain the pokemon. The keys of the dictionary will be the `pokemon_id` and the values will themselves dictionaries that contain the other pokemon variables. The structure of the pokedex dictionary will start like so:\n",
    "     \n",
    "     {\n",
    "         1: {\n",
    "                 'name':'charmander',\n",
    "                 'type':'fire',\n",
    "                 ...\n",
    "                 \n",
    "The `type` of charmander, squirtle, and bulbasaur should be `'fire'`, `'water'`, and `'poison'` respectively. The other values are up to you, make them anything you like!\n",
    "\n",
    "Print (or pretty print) the pokedex dictionary with the 3 pokemon."
   ]
  },
  {
   "cell_type": "markdown",
   "metadata": {},
   "source": [
    "## Creating a simple \"hard-coded\" pokemon list\n",
    "As per what the questions asks."
   ]
  },
  {
   "cell_type": "markdown",
   "metadata": {},
   "source": [
    "#### Previously, the Pokedex dictionary was already initialized at the top of this Jupyter as \"Pokedex = {}\"\n",
    "    We will append the 3 different pokemons and their relevant stats into this pokedex.\n",
    "   \n",
    " #### First create the pokemons as dictionaries"
   ]
  },
  {
   "cell_type": "markdown",
   "metadata": {},
   "source": [
    "##### charmander with pokemon_id = 1, type = fire"
   ]
  },
  {
   "cell_type": "code",
   "execution_count": 12,
   "metadata": {},
   "outputs": [],
   "source": [
    "charmander = {\n",
    "    \n",
    "                1 : {\n",
    "                        'name' : 'charmander',\n",
    "                        'type' : 'fire',\n",
    "                        'hp' : 39,\n",
    "                        'attack' : 52,\n",
    "                        'defense' : 43,\n",
    "                        'special_attack' : 60,\n",
    "                        'special_defense' : 50,\n",
    "                        'speed' : 65\n",
    "                    } \n",
    "            }"
   ]
  },
  {
   "cell_type": "markdown",
   "metadata": {},
   "source": [
    "##### squirtle with pokemon_id = 2, type = water"
   ]
  },
  {
   "cell_type": "code",
   "execution_count": 13,
   "metadata": {
    "collapsed": true
   },
   "outputs": [],
   "source": [
    "squirtle = {\n",
    "    \n",
    "                2 : {\n",
    "                        'name' : 'squirtle',\n",
    "                        'type' : 'water',\n",
    "                        'hp' : 44,\n",
    "                        'attack' : 48,\n",
    "                        'defense' : 65,\n",
    "                        'special_attack' : 50,\n",
    "                        'special_defense' : 64,\n",
    "                        'speed' : 43\n",
    "                    } \n",
    "            }"
   ]
  },
  {
   "cell_type": "markdown",
   "metadata": {},
   "source": [
    "##### bulbasaur with pokemon_id = 3, type = poison"
   ]
  },
  {
   "cell_type": "code",
   "execution_count": 14,
   "metadata": {
    "collapsed": true
   },
   "outputs": [],
   "source": [
    "bulbasaur = {\n",
    "    \n",
    "                3 : {\n",
    "                        'name' : 'bulbasaur',\n",
    "                        'type' : 'poison',\n",
    "                        'hp' : 45,\n",
    "                        'attack' : 49,\n",
    "                        'defense' : 49,\n",
    "                        'special_attack' : 65,\n",
    "                        'special_defense' : 65,\n",
    "                        'speed' : 45\n",
    "                    } \n",
    "            }"
   ]
  },
  {
   "cell_type": "markdown",
   "metadata": {},
   "source": [
    "### Now add these pokemons into the Pokedex\n",
    "    Although I could have just hard-coded the Pokedex all in a single block containing all the pokemons instead of creating separate dictionaries and then having to update the Pokedex later, but I did it this way for easier presentation."
   ]
  },
  {
   "cell_type": "code",
   "execution_count": 15,
   "metadata": {},
   "outputs": [],
   "source": [
    "Pokedex.update(bulbasaur)\n",
    "Pokedex.update(squirtle)\n",
    "Pokedex.update(charmander)"
   ]
  },
  {
   "cell_type": "markdown",
   "metadata": {},
   "source": [
    "### pprint the Pokedex"
   ]
  },
  {
   "cell_type": "code",
   "execution_count": 16,
   "metadata": {},
   "outputs": [
    {
     "name": "stdout",
     "output_type": "stream",
     "text": [
      "{1: {'attack': 52,\n",
      "     'defense': 43,\n",
      "     'hp': 39,\n",
      "     'name': 'charmander',\n",
      "     'special_attack': 60,\n",
      "     'special_defense': 50,\n",
      "     'speed': 65,\n",
      "     'type': 'fire'},\n",
      " 2: {'attack': 48,\n",
      "     'defense': 65,\n",
      "     'hp': 44,\n",
      "     'name': 'squirtle',\n",
      "     'special_attack': 50,\n",
      "     'special_defense': 64,\n",
      "     'speed': 43,\n",
      "     'type': 'water'},\n",
      " 3: {'attack': 49,\n",
      "     'defense': 49,\n",
      "     'hp': 45,\n",
      "     'name': 'bulbasaur',\n",
      "     'special_attack': 65,\n",
      "     'special_defense': 65,\n",
      "     'speed': 45,\n",
      "     'type': 'poison'}}\n"
     ]
    }
   ],
   "source": [
    "pprint (Pokedex)"
   ]
  },
  {
   "cell_type": "markdown",
   "metadata": {},
   "source": [
    "<img src=\"http://imgur.com/l5NasQj.png\" style=\"float: left; margin: 25px 15px 0px 0px; height: 25px\">\n",
    "\n",
    "## 4. Create a data structure for players\n",
    "\n",
    "---\n",
    "\n",
    "### 4.1 \n",
    "\n",
    "In order to maintain a database of multiple players, create a dictionary that keeps track of players indexed by `player_id`. \n",
    "\n",
    "The keys of the dictionary will be `player_id` and values will be dictionaries containing each player's variables (from question 1). \n",
    "\n",
    "Construct the `players` dictionary and insert the player that you defined in question 1, then print `players`."
   ]
  },
  {
   "cell_type": "markdown",
   "metadata": {},
   "source": [
    "#### The class previously created in player 1 automatically adds players into the player dictionary, indexed by player_id\n",
    "    Subsequently, the player dictionary can be updated via the update.method."
   ]
  },
  {
   "cell_type": "markdown",
   "metadata": {},
   "source": [
    "#### We can add player \"Nasrudin\" into players dict via update this way, \n",
    "    traditionally as what the question expects, we retrieve Nasrudin's player ID and use that as key, then the value as\n",
    "    Nasrudin's dictionary then, pprint players"
   ]
  },
  {
   "cell_type": "code",
   "execution_count": 17,
   "metadata": {},
   "outputs": [
    {
     "name": "stdout",
     "output_type": "stream",
     "text": [
      "{429554375: {'gyms_visited': ['reddit.com', 'stackoverflow.com'],\n",
      "             'player_id': 429554375,\n",
      "             'player_name': 'Nasrudin Salim',\n",
      "             'player_pokemon': {},\n",
      "             'time_played': 0.0}}\n"
     ]
    }
   ],
   "source": [
    "players ={}\n",
    "players.update({Nasrudin.info()['player_id']:Nasrudin.info()})\n",
    "pprint (players)"
   ]
  },
  {
   "cell_type": "markdown",
   "metadata": {},
   "source": [
    "## Or make use of the class"
   ]
  },
  {
   "cell_type": "markdown",
   "metadata": {},
   "source": [
    "#### A simpler method is to just let the class handle it, here I empty out players for demonstration purposes.\n",
    "##### Then attach it to a class then pprints it to get the same result with less effort. Another bonus is that we need not have to keep updating the players dictionary each time there's a new player too."
   ]
  },
  {
   "cell_type": "code",
   "execution_count": 18,
   "metadata": {},
   "outputs": [
    {
     "name": "stdout",
     "output_type": "stream",
     "text": [
      "{429554375: {'gyms_visited': ['reddit.com', 'stackoverflow.com'],\n",
      "             'player_id': 429554375,\n",
      "             'player_name': 'Nasrudin Salim',\n",
      "             'player_pokemon': {},\n",
      "             'time_played': 0.0}}\n"
     ]
    }
   ],
   "source": [
    "players = {}\n",
    "players = PlayerList\n",
    "pprint (players)"
   ]
  },
  {
   "cell_type": "markdown",
   "metadata": {},
   "source": [
    "---\n",
    "\n",
    "### 4.2\n",
    "\n",
    "Create a new player with `player_id = 2` in the `players` dictionary. Leave the `'player_pokemon'` dictionary empty. Append `'alcatraz'` and `'pacific_beach'` to the `'gyms_visited'` list for player 2.\n",
    "\n",
    "The `'player_name'` and `'time_played'` values are up to you, but must be a string and float, respectively.\n",
    "\n",
    "Remember, the player_id is the key for the player in the players dictionary.\n",
    "\n",
    "Print the `players` dictionary with the new player inserted."
   ]
  },
  {
   "cell_type": "markdown",
   "metadata": {},
   "source": [
    "### Create new player, Gary\n",
    "    player_id =2\n",
    "    Visited alcatraz and pacific_beach"
   ]
  },
  {
   "cell_type": "code",
   "execution_count": 19,
   "metadata": {},
   "outputs": [
    {
     "name": "stdout",
     "output_type": "stream",
     "text": [
      "{'gyms_visited': [],\n",
      " 'player_id': 2,\n",
      " 'player_name': 'Gary Strong Flavour',\n",
      " 'player_pokemon': {},\n",
      " 'time_played': 0.0}\n"
     ]
    }
   ],
   "source": [
    "Gary = player ('Gary Strong Flavour',2) #Instaed of using the random number generator, we use 2 for the player id argument\n",
    "pprint (Gary.info())"
   ]
  },
  {
   "cell_type": "markdown",
   "metadata": {},
   "source": [
    "#### Adding Gyms visited and time_played.\n",
    "        We saw that gyms_visited was empty on the last info pprint as well as time_played, so we'll use the class method\n",
    "        to add those in.\n",
    "        Recall that the VisitGym method can be used to either add as an index from the list of gyms we created earlier,\n",
    "        Or that we can use our own custom strings such as here"
   ]
  },
  {
   "cell_type": "code",
   "execution_count": 20,
   "metadata": {},
   "outputs": [
    {
     "name": "stdout",
     "output_type": "stream",
     "text": [
      "Gary Strong Flavour visits the alcatraz gym\n",
      "Gary Strong Flavour visits the pacific_beach gym\n",
      "Gary Strong Flavour has played for 100 seconds\n",
      "Total play time is 100.0 hours\n",
      "\n",
      "Gary's Information\n",
      "{'gyms_visited': ['alcatraz', 'pacific_beach'],\n",
      " 'player_id': 2,\n",
      " 'player_name': 'Gary Strong Flavour',\n",
      " 'player_pokemon': {},\n",
      " 'time_played': 100.0}\n"
     ]
    }
   ],
   "source": [
    "Gary.VisitGym('alcatraz')\n",
    "Gary.VisitGym('pacific_beach')\n",
    "Gary.AddPlayTime(100)\n",
    "# Just to prove that it works\n",
    "print \"\"\n",
    "print \"Gary's Information\"\n",
    "pprint (Gary.info())"
   ]
  },
  {
   "cell_type": "markdown",
   "metadata": {},
   "source": [
    "### Showing off the now automatically updated players \n",
    "    Just printing it out to show that it's been updated"
   ]
  },
  {
   "cell_type": "code",
   "execution_count": 21,
   "metadata": {},
   "outputs": [
    {
     "name": "stdout",
     "output_type": "stream",
     "text": [
      "{2: {'gyms_visited': ['alcatraz', 'pacific_beach'],\n",
      "     'player_id': 2,\n",
      "     'player_name': 'Gary Strong Flavour',\n",
      "     'player_pokemon': {},\n",
      "     'time_played': 100.0},\n",
      " 429554375: {'gyms_visited': ['reddit.com', 'stackoverflow.com'],\n",
      "             'player_id': 429554375,\n",
      "             'player_name': 'Nasrudin Salim',\n",
      "             'player_pokemon': {},\n",
      "             'time_played': 0.0}}\n"
     ]
    }
   ],
   "source": [
    "pprint (players)"
   ]
  },
  {
   "cell_type": "markdown",
   "metadata": {},
   "source": [
    "<img src=\"http://imgur.com/l5NasQj.png\" style=\"float: left; margin: 25px 15px 0px 0px; height: 25px\">\n",
    "\n",
    "## 5. Add captured pokemon for each player\n",
    "\n",
    "---\n",
    "\n",
    "The `'player_pokemon'` keyed dictionaries for each player keep track of which of the pokemon each player has.\n",
    "\n",
    "The keys of the `'player_pokemon'` dictionaries are the pokemon ids that correspond to the ids in the `pokedex` dictionary you created earlier. The values are integers specifying the stats for the pokemon.\n",
    "\n",
    "Give player 1 a squirtle. Give player 2 charmander and a bulbasaur.\n",
    "\n",
    "Print the players dictionary after adding the pokemon for each player.\n"
   ]
  },
  {
   "cell_type": "markdown",
   "metadata": {},
   "source": [
    "### Using the player class's Pokemon method \n",
    "    Give Nasrudin a squirtle, index 2\n",
    "    Give Gary a Charmander and a bulbasaur, index 1 and 3"
   ]
  },
  {
   "cell_type": "code",
   "execution_count": 22,
   "metadata": {},
   "outputs": [
    {
     "name": "stdout",
     "output_type": "stream",
     "text": [
      "squirtle has been added to Nasrudin Salim's list of pokemons\n",
      "charmander has been added to Gary Strong Flavour's list of pokemons\n",
      "bulbasaur has been added to Gary Strong Flavour's list of pokemons\n"
     ]
    }
   ],
   "source": [
    "Nasrudin.Pokemon(2)\n",
    "Gary.Pokemon(1)\n",
    "Gary.Pokemon(3)"
   ]
  },
  {
   "cell_type": "markdown",
   "metadata": {},
   "source": [
    "#### Checking out the player datastructure if its updated as well"
   ]
  },
  {
   "cell_type": "code",
   "execution_count": 23,
   "metadata": {},
   "outputs": [
    {
     "name": "stdout",
     "output_type": "stream",
     "text": [
      "{2: {'gyms_visited': ['alcatraz', 'pacific_beach'],\n",
      "     'player_id': 2,\n",
      "     'player_name': 'Gary Strong Flavour',\n",
      "     'player_pokemon': {1: {'attack': 52,\n",
      "                            'defense': 43,\n",
      "                            'hp': 39,\n",
      "                            'name': 'charmander',\n",
      "                            'special_attack': 60,\n",
      "                            'special_defense': 50,\n",
      "                            'speed': 65,\n",
      "                            'type': 'fire'},\n",
      "                        3: {'attack': 49,\n",
      "                            'defense': 49,\n",
      "                            'hp': 45,\n",
      "                            'name': 'bulbasaur',\n",
      "                            'special_attack': 65,\n",
      "                            'special_defense': 65,\n",
      "                            'speed': 45,\n",
      "                            'type': 'poison'}},\n",
      "     'time_played': 100.0},\n",
      " 429554375: {'gyms_visited': ['reddit.com', 'stackoverflow.com'],\n",
      "             'player_id': 429554375,\n",
      "             'player_name': 'Nasrudin Salim',\n",
      "             'player_pokemon': {2: {'attack': 48,\n",
      "                                    'defense': 65,\n",
      "                                    'hp': 44,\n",
      "                                    'name': 'squirtle',\n",
      "                                    'special_attack': 50,\n",
      "                                    'special_defense': 64,\n",
      "                                    'speed': 43,\n",
      "                                    'type': 'water'}},\n",
      "             'time_played': 0.0}}\n"
     ]
    }
   ],
   "source": [
    "pprint (players)"
   ]
  },
  {
   "cell_type": "markdown",
   "metadata": {},
   "source": [
    "\n",
    "\n",
    "## 6. What gyms have players visited?\n",
    "\n",
    "---\n",
    "<img src=\"http://imgur.com/l5NasQj.png\" style=\"float: left; margin: 25px 15px 0px 0px; height: 25px\">\n",
    "### 6.1\n",
    "\n",
    "Write a for-loop that:\n",
    "\n",
    "1. Iterates through the `pokemon_gyms` list of gym locations you defined before.\n",
    "2. For each gym, iterate through each player in the `players` dictionary with a second, internal for-loop.\n",
    "3. If the player has visited the gym, print out \"[player] has visited [gym location].\", filling in [player] and [gym location] with the current player's name and current gym location."
   ]
  },
  {
   "cell_type": "markdown",
   "metadata": {},
   "source": [
    "### Method 1: using the \"Info Method in the player class\"\n",
    "    As well as just calling out the gyms_visited key"
   ]
  },
  {
   "cell_type": "code",
   "execution_count": 24,
   "metadata": {},
   "outputs": [
    {
     "name": "stdout",
     "output_type": "stream",
     "text": [
      "Gary's visited Gyms\n",
      "['alcatraz', 'pacific_beach']\n",
      "...\n",
      "Nasrudin's visited Gyms\n",
      "['reddit.com', 'stackoverflow.com']\n"
     ]
    }
   ],
   "source": [
    "print \"Gary's visited Gyms\"\n",
    "pprint (Gary.info()['gyms_visited'])\n",
    "print \"...\"\n",
    "print \"Nasrudin's visited Gyms\"\n",
    "pprint (Nasrudin.info()['gyms_visited'])"
   ]
  },
  {
   "cell_type": "markdown",
   "metadata": {},
   "source": [
    "### Method 2: A 'for' loop through the player list dictionary\n",
    "    At first I wrote 3 for loops, but seeing that the question asks for only a secondary for loop, \n",
    "    I changed from 3 for loops into 2 by using the \" if gym in {dictionary) \" \n",
    "    Otherwise, 3 level for loop would have been another:\n",
    "    for gymvisited in gyms_visited: --> Less efficient"
   ]
  },
  {
   "cell_type": "code",
   "execution_count": 25,
   "metadata": {},
   "outputs": [
    {
     "name": "stdout",
     "output_type": "stream",
     "text": [
      "Nasrudin Salim has visited reddit.com\n",
      "Nasrudin Salim has visited stackoverflow.com\n"
     ]
    }
   ],
   "source": [
    "loopcount = 0\n",
    "for gym in Gym_locations:\n",
    "    for player in players:\n",
    "        loopcount += 1\n",
    "        if gym in players[player]['gyms_visited']:\n",
    "            print players[player]['player_name'],\"has visited\", gym\n",
    "            \n",
    "    "
   ]
  },
  {
   "cell_type": "markdown",
   "metadata": {},
   "source": [
    "<img src=\"http://imgur.com/xDpSobf.png\" style=\"float: left; margin: 25px 15px 0px 0px; height: 25px\">\n",
    "### 6.2\n",
    "\n",
    "How many times did that loop run? If you have N gyms and also N players, how many times would it run as a function of N?\n",
    "\n",
    "Can you think of a more efficient way to accomplish the same thing? \n",
    "\n",
    "(You can write your answer as Markdown text.)"
   ]
  },
  {
   "cell_type": "markdown",
   "metadata": {
    "collapsed": true
   },
   "source": [
    "#### Amount of times the loop ran: 20"
   ]
  },
  {
   "cell_type": "code",
   "execution_count": 26,
   "metadata": {},
   "outputs": [
    {
     "name": "stdout",
     "output_type": "stream",
     "text": [
      "20\n"
     ]
    }
   ],
   "source": [
    "print loopcount"
   ]
  },
  {
   "cell_type": "markdown",
   "metadata": {},
   "source": [
    "#### More efficient way, list comprehensions\n",
    "    list comprehensions run in C and are therefore hundred times faster\n",
    "    You could also just copy the visitedgyms line into the 'visitedgyms' argument in the print line to create a one-liner"
   ]
  },
  {
   "cell_type": "code",
   "execution_count": 27,
   "metadata": {},
   "outputs": [
    {
     "name": "stdout",
     "output_type": "stream",
     "text": [
      "Nasrudin Salim has visited reddit.com\n",
      "Nasrudin Salim has visited stackoverflow.com\n"
     ]
    }
   ],
   "source": [
    "visitedgyms = [players[player]['player_name'] + \" has visited \" + gym for player in players for gym in Gym_locations if gym in players[player]['gyms_visited'] ]\n",
    "print (\"\\n\".join(visitedgyms))"
   ]
  },
  {
   "cell_type": "markdown",
   "metadata": {},
   "source": [
    "<img src=\"http://imgur.com/l5NasQj.png\" style=\"float: left; margin: 25px 15px 0px 0px; height: 25px\">\n",
    "\n",
    "## 7. Calculate player \"power\".\n",
    "\n",
    "---\n",
    "\n",
    "Define a function that will calculate a player's \"power\". Player power is defined as the sum of the base statistics all of their pokemon.\n",
    "\n",
    "Your function will:\n",
    "\n",
    "1. Accept the `players` dictionary, `pokedex` dictionary, and a player_id as arguments.\n",
    "2. For the specified player_id, look up that player's pokemon and their level(s).\n",
    "3. Find and aggregate the attack and defense values for each of the player's pokemon from the `pokedex` dictionary.\n",
    "4. Print \"[player name]'s power is [player power].\", where the player power is the sum of the base statistics for all of their pokemon.\n",
    "5. Return the player's power value.\n",
    "\n",
    "Print out the pokemon power for each of your players."
   ]
  },
  {
   "cell_type": "markdown",
   "metadata": {},
   "source": [
    "### The definition of a pokemon's power\n",
    "    Later in the function it is required to aggregate the attack and defense values of each of the player's pokemon\n",
    "    Here, we will create a function to determine the power of a specific pokemon which will be used later\n",
    "    The stats of interest based on this question would therefore be:\n",
    "        1. Attack\n",
    "        2. Defense\n",
    "        3. Special_attack\n",
    "        4. Special_defense\n",
    "    Aggregate these stats and return the value\n",
    "    \n",
    "    Some obstacles, the stats have to be case insensitive to standardize things and prevent errors.\n",
    "        The workaround would be to recreate the dictionary by creating 2 dummy lists that have lower cased keys. Zip it back\n",
    "    And later on it no longer uses \"_\", so we have to set a workaround for that."
   ]
  },
  {
   "cell_type": "code",
   "execution_count": 28,
   "metadata": {},
   "outputs": [],
   "source": [
    "def PokemonPower(ID, pokedex = Pokedex):\n",
    "    if ID in pokedex:\n",
    "    \n",
    "        #Make it case insensitive\n",
    "        #Create dummy lists that has all keys standardized to lower case, zip them back into a dictionary\n",
    "        #via list comprehension\n",
    "        \n",
    "        dummypokedexID = {key:value for key,value in zip([k.lower() for k in Pokedex[ID]],[k for k in Pokedex[ID].values()])}\n",
    "        \n",
    "        try:\n",
    "    \n",
    "            AggregatePower = dummypokedexID['attack'] + dummypokedexID['defense'] + dummypokedexID['special_attack'] + dummypokedexID['special_defense']\n",
    "        except:\n",
    "        #error fix in the case it starts using no underscores for the special stats later on.\n",
    "            AggregatePower = dummypokedexID['attack'] + dummypokedexID['defense'] + dummypokedexID['specialattack'] + dummypokedexID['specialdefense']\n",
    "        return AggregatePower\n",
    "    else:\n",
    "        print ID, \"pokemon not in Pokedex\"\n",
    "        return []\n",
    "        "
   ]
  },
  {
   "cell_type": "markdown",
   "metadata": {},
   "source": [
    "## Creating the Player Power Calculator function\n",
    "### Give some default values to make using the function easier\n",
    "    player dict --> players\n",
    "    pokedex dict --> Pokedex\n",
    "#### Error check for existence of player\n",
    "else, return nothing and print an error\n",
    "#### Making use of the PokemonPower function\n",
    "Run a simple For loop to sum all the player's owned pokemon's powers\n",
    "\n",
    "    Print the statement\n",
    "    Return the sum\n",
    "    "
   ]
  },
  {
   "cell_type": "code",
   "execution_count": 35,
   "metadata": {
    "collapsed": true
   },
   "outputs": [],
   "source": [
    "def PlayerPower(player_id, player_datastructure = players,pokedex_dict = Pokedex ):\n",
    "    \n",
    "    if player_id in player_datastructure:\n",
    "        \n",
    "        #A for loop to sum all the pokemon's powers\n",
    "        \n",
    "        player_power = 0 #initiate the variable\n",
    "        for pokemon in player_datastructure[player_id]['player_pokemon']:\n",
    "            \n",
    "            #calls the Pokemon Power function and then adds the return value into player_power\n",
    "            player_power += PokemonPower(pokemon,pokedex_dict)\n",
    "              \n",
    "        print str(player_datastructure[player_id]['player_name']) + \"'s power is\", str(player_power)+\".\"\n",
    "        #returns the final value\n",
    "        return player_power\n",
    "        \n",
    "    else:\n",
    "        print \"player\",player_id, \"does not exist!\"\n",
    "        return []\n",
    "    "
   ]
  },
  {
   "cell_type": "markdown",
   "metadata": {
    "collapsed": true
   },
   "source": [
    "<img src=\"http://imgur.com/l5NasQj.png\" style=\"float: left; margin: 25px 15px 0px 0px; height: 25px\">\n",
    "\n",
    "## 8. Load a pokedex file containing all the pokemon\n",
    "\n",
    "---\n",
    "\n",
    "### 8.1\n",
    "\n",
    "While you were putting together the prototype code, your colleagues were preparing a dataset of Pokemon and their attributes. (This was a rush job, so they may have picked some crazy values for some...)\n",
    "\n",
    "The code below loads information from a comma separated value (csv) file. You need to parse this string into a more useable format. The format of the string is:\n",
    "\n",
    "- Rows are separated by newline characters: \\n\n",
    "- Columns are separated by commas: ,\n",
    "- All cells in the csv are double quoted. Ex: \"PokedexNumber\" is the first cell of the first row.\n",
    "\n",
    "\n",
    "Using for-loops, create a list of lists where each list within the overall list is a row of the csv/matrix, and each element in that list is a cell in that row. Additional criteria:\n",
    "\n",
    "1. Quotes are removed from each cell item.\n",
    "2. Numeric column values are converted to floats.\n",
    "3. There are some cells that are empty and have no information. For these cells put a -1 value in place.\n",
    "\n",
    "Your end result is effectively a matrix. Each list in the outer list is a row, and the *j*th elements of list together form the *j*th column, which represents a data attribute. The first three lists in your pokedex list should look like this:\n",
    "\n",
    "    ['PokedexNumber', 'Name', 'Type', 'Total', 'HP', 'Attack', 'Defense', 'SpecialAttack', 'SpecialDefense', 'Speed']\n",
    "    [1.0, 'Bulbasaur', 'GrassPoison', 318.0, 45.0, 49.0, 49.0, 65.0, 65.0, 45.0]\n",
    "    [2.0, 'Ivysaur', 'GrassPoison', 405.0, 60.0, 62.0, 63.0, 80.0, 80.0, 60.0]"
   ]
  },
  {
   "cell_type": "markdown",
   "metadata": {},
   "source": [
    "### Create list of pokemon labels"
   ]
  },
  {
   "cell_type": "markdown",
   "metadata": {},
   "source": [
    "##  Load the Pokedex file into a list"
   ]
  },
  {
   "cell_type": "code",
   "execution_count": null,
   "metadata": {},
   "outputs": [],
   "source": [
    "#\n",
    "filelocation= './pokedex_basic.csv'\n",
    "with open (filelocation ,'r') as f:\n",
    "    csvfile = csv.reader(f)\n",
    "    #import this data into the PokemonList\n",
    "    PokemonList = [ row for row in csvfile]\n",
    "       \n",
    "f.close()\n",
    "pprint (PokemonList)"
   ]
  },
  {
   "cell_type": "markdown",
   "metadata": {},
   "source": [
    "#### The pokedex has to be in a format where the key = pokemon pokedex ID whereas the values call for the pokemon Information. However, the pokemon information should be a list of a dictionaries e.g [ name:bulbasaur, type: GrassPoison]\n",
    "There's a problem here as the labels are in their own separate row and the information are all segregated in their own respective individual rows.\n",
    "    To form the outcome required, we have to make a new array for the primary dictionary key, where the keys are all the pokemon indexes. Then for each pokemon information value e.g GrassPoison, Bulbasaur, etc. We have to pair that with the proper key i.e the label. Such that it becomes Name: bulbasaur, type: GrassPoison, Total:318. This dictionary will be in a list which is then zipped into the dictionary with key:value being Pokemon index : Pokemon Info dict list"
   ]
  },
  {
   "cell_type": "markdown",
   "metadata": {},
   "source": [
    "## Create Pokedex key list"
   ]
  },
  {
   "cell_type": "code",
   "execution_count": null,
   "metadata": {},
   "outputs": [],
   "source": [
    "Pokedexkey = [ pokedex[0] for pokedex in PokemonList[1::] ]"
   ]
  },
  {
   "cell_type": "markdown",
   "metadata": {},
   "source": [
    "### There is an issue with this list as some of the pokedexkeys are not unqiue. The same key repeats for a different version of the same pokemon"
   ]
  },
  {
   "cell_type": "markdown",
   "metadata": {},
   "source": [
    "######  Instead, we will have to rewrite the PokedexIDs"
   ]
  },
  {
   "cell_type": "code",
   "execution_count": null,
   "metadata": {
    "scrolled": true
   },
   "outputs": [],
   "source": [
    "Pokedexkey_new = range(1,len(Pokedexkey))"
   ]
  },
  {
   "cell_type": "code",
   "execution_count": null,
   "metadata": {},
   "outputs": [],
   "source": [
    "pokemonlabels = PokemonList[0]"
   ]
  },
  {
   "cell_type": "markdown",
   "metadata": {},
   "source": [
    "### Create a dictionary of dictionaries of pokemons"
   ]
  },
  {
   "cell_type": "markdown",
   "metadata": {},
   "source": [
    "#### Found an obstacle where the values are in strings, so we need to create a function to be mapped onto the values as the dictionary of dictionaries is being created. \n"
   ]
  },
  {
   "cell_type": "markdown",
   "metadata": {},
   "source": [
    "#### This function will attempt to convert the numerical strings into int. If cannot and an error is received, leave it."
   ]
  },
  {
   "cell_type": "code",
   "execution_count": null,
   "metadata": {},
   "outputs": [],
   "source": [
    "def intoint(string):\n",
    "    try:\n",
    "        string= int(string)\n",
    "    except:\n",
    "        string=string\n",
    "    return string"
   ]
  },
  {
   "cell_type": "markdown",
   "metadata": {},
   "source": [
    "### Now create the dictionary and apply the function to the value"
   ]
  },
  {
   "cell_type": "code",
   "execution_count": null,
   "metadata": {},
   "outputs": [],
   "source": [
    "Pokedex = {idkey:{pokemonlabels[index]: intoint(value)  for line in PokemonList[1::] for index, value in enumerate(line)} for idkey in Pokedexkey  }\n",
    "           \n",
    "        "
   ]
  },
  {
   "cell_type": "code",
   "execution_count": null,
   "metadata": {
    "scrolled": false
   },
   "outputs": [],
   "source": [
    "print Pokedex"
   ]
  },
  {
   "cell_type": "code",
   "execution_count": null,
   "metadata": {
    "collapsed": true
   },
   "outputs": [],
   "source": [
    "# Code to read in pokedex info\n",
    "raw_pd = ''\n",
    "pokedex_file = 'pokedex_basic.csv'\n",
    "with open(pokedex_file, 'r') as f:\n",
    "    raw_pd = f.read()\n",
    "    \n",
    "# the pokedex string is assigned to the raw_pd variable"
   ]
  },
  {
   "cell_type": "code",
   "execution_count": null,
   "metadata": {
    "collapsed": true
   },
   "outputs": [],
   "source": []
  },
  {
   "cell_type": "markdown",
   "metadata": {},
   "source": [
    "<img src=\"http://imgur.com/xDpSobf.png\" style=\"float: left; margin: 25px 15px 0px 0px; height: 25px\">\n",
    "\n",
    "### 8.2 Parse the raw pokedex with list comprehensions\n",
    "\n",
    "---\n",
    "\n",
    "Perform the same parsing as above, but **using only a single list comprehension** instead of for loops. You may have nested list comprehensions within the main list comprehension! The output should be exactly the same."
   ]
  },
  {
   "cell_type": "code",
   "execution_count": null,
   "metadata": {
    "collapsed": true
   },
   "outputs": [],
   "source": []
  },
  {
   "cell_type": "markdown",
   "metadata": {},
   "source": [
    "<img src=\"http://imgur.com/l5NasQj.png\" style=\"float: left; margin: 25px 15px 0px 0px; height: 25px\">\n",
    "\n",
    "## 9. Write a function to generate the full pokedex\n",
    "\n",
    "---\n",
    "\n",
    "Write a function that recreates the pokedex you made before, but with the data read in from the full pokemon file. The `PokedexNumber` should be used as the `pokemon_id` key values for the dictionary of pokemon.\n",
    "\n",
    "Your function should:\n",
    "\n",
    "1. Take the parsed pokedex information you created above as an argument.\n",
    "2. Return a dictionary in the same format as your original pokedex you created before containing the information from the parsed full pokedex file.\n",
    "\n",
    "To test the function, print out the pokemon with id = 100."
   ]
  },
  {
   "cell_type": "code",
   "execution_count": null,
   "metadata": {
    "collapsed": true,
    "scrolled": true
   },
   "outputs": [],
   "source": []
  },
  {
   "cell_type": "markdown",
   "metadata": {},
   "source": [
    "<img src=\"http://i.imgur.com/GCAf1UX.png\" style=\"float: left; margin: 25px 15px 0px 0px; height: 25px\">\n",
    "\n",
    "## 10. Write a function to generate a \"filtered\" pokedex\n",
    "---\n",
    "Your function should:\n",
    "1. Take the parsed pokedex information you created above as an argument.\n",
    "1. Take a dictionary as a parameter with keys matching the features of the Pokedex, filtering by exact match for string type values, and/or filter continuous variables specified value that is greater than or equal to the dictionary key parameter.\n",
    "1. Return multiple elements from the Pokedex\n",
    "\n",
    "Example:\n",
    "\n",
    "```python\n",
    "\n",
    "# Only filter based on parameters passed\n",
    "filter_options = {\n",
    "    'Attack':   25,\n",
    "    'Defense':  30,\n",
    "    'Type':     'Electric'\n",
    "}\n",
    "\n",
    "# Return records with attack >= 24, defense >= 30, and type == \"Electric\"\n",
    "# Also anticipate that other paramters can also be passed such as \"SpecialAttack\", \"Speed\", etc.\n",
    "filtered_pokedex(pokedex_data, filter=filter_options)\n",
    "\n",
    "# Example output:\n",
    "# [{'Attack': 30.0,\n",
    "#  'Defense': 50.0,\n",
    "#  'HP': 40.0,\n",
    "#  'Name': 'Voltorb',\n",
    "#  'SpecialAttack': 55.0,\n",
    "#  'SpecialDefense': 55.0,\n",
    "#  'Speed': 100.0,\n",
    "#  'Total': 330.0,\n",
    "#  'Type': 'Electric'},\n",
    "#  {'Attack': 30.0,\n",
    "#  'Defense': 33.0,\n",
    "#  'HP': 32.0,\n",
    "#  'Name': 'Pikachu',\n",
    "#  'SpecialAttack': 55.0,\n",
    "#  'SpecialDefense': 55.0,\n",
    "#  'Speed': 100.0,\n",
    "#  'Total': 330.0,\n",
    "#  'Type': 'Electric'},\n",
    "#  ... etc\n",
    "#  ]\n",
    "\n",
    "```\n",
    "\n"
   ]
  },
  {
   "cell_type": "code",
   "execution_count": null,
   "metadata": {
    "collapsed": true
   },
   "outputs": [],
   "source": []
  },
  {
   "cell_type": "markdown",
   "metadata": {
    "collapsed": true
   },
   "source": [
    "\n",
    "## 9. Descriptive statistics on the prototype pokedex\n",
    "\n",
    "<img src=\"http://imgur.com/l5NasQj.png\" style=\"float: left; margin: 25px 15px 0px 0px; height: 25px\">\n",
    "### 9.1\n",
    "\n",
    "What is the population mean and standard deviation of the \"Total\" attribute for all characters in the Pokedex?\n",
    "\n"
   ]
  },
  {
   "cell_type": "code",
   "execution_count": null,
   "metadata": {
    "collapsed": true
   },
   "outputs": [],
   "source": []
  },
  {
   "cell_type": "markdown",
   "metadata": {},
   "source": [
    "<img src=\"http://imgur.com/l5NasQj.png\" style=\"float: left; margin: 25px 15px 0px 0px; height: 25px\">\n",
    "### 9.2\n",
    "\n",
    "The game is no fun if the characters are wildly unbalanced! Are any characters \"overpowered\", which we'll define as having a \"Total\" more than three standard deviations from the population mean?"
   ]
  },
  {
   "cell_type": "code",
   "execution_count": null,
   "metadata": {
    "collapsed": true
   },
   "outputs": [],
   "source": []
  },
  {
   "cell_type": "markdown",
   "metadata": {},
   "source": [
    "<img src=\"http://imgur.com/xDpSobf.png\" style=\"float: left; margin: 25px 15px 0px 0px; height: 25px\">\n",
    "\n",
    "## 10. Calibrate the frequency of Pokemon\n",
    "\n",
    "The design team wants you to make the powerful Pokemon rare, and the weaklings more common. How would you set the probability $p_i$ of finding Pokemon *i* each time a player visits a gym?\n",
    "\n",
    "Write a function that takes in a Pokedex number and returns a value $p_i$ for that character.\n",
    "\n",
    "Hint: there are many ways you could do this. What do _you_ think makes sense? Start with simplifying assumptions: for example, you could assume that the probabilities of encountering any two Pokemon on one visit to a gym are independent of each other."
   ]
  },
  {
   "cell_type": "code",
   "execution_count": null,
   "metadata": {
    "collapsed": true
   },
   "outputs": [],
   "source": []
  }
 ],
 "metadata": {
  "anaconda-cloud": {},
  "kernelspec": {
   "display_name": "Python 2",
   "language": "python",
   "name": "python2"
  },
  "language_info": {
   "codemirror_mode": {
    "name": "ipython",
    "version": 2
   },
   "file_extension": ".py",
   "mimetype": "text/x-python",
   "name": "python",
   "nbconvert_exporter": "python",
   "pygments_lexer": "ipython2",
   "version": "2.7.13"
  }
 },
 "nbformat": 4,
 "nbformat_minor": 1
}
